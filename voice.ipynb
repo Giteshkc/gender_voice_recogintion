{
 "cells": [
  {
   "cell_type": "code",
   "execution_count": 2,
   "id": "331122e7",
   "metadata": {},
   "outputs": [],
   "source": [
    "import pandas as pd\n",
    "from scipy.io import wavfile\n",
    "import librosa\n",
    "import numpy as np  \n",
    "import os\n",
    "import resampy\n",
    "from sklearn.preprocessing import OneHotEncoder\n",
    "from sklearn.model_selection import train_test_split\n",
    "from sklearn.ensemble import RandomForestClassifier\n",
    "from sklearn.metrics import accuracy_score, classification_report, confusion_matrix\n",
    "from sklearn.decomposition import PCA"
   ]
  },
  {
   "cell_type": "code",
   "execution_count": 3,
   "id": "ae216de0",
   "metadata": {},
   "outputs": [],
   "source": [
    "import seaborn as sns\n",
    "from sklearn.model_selection import GridSearchCV"
   ]
  },
  {
   "cell_type": "code",
   "execution_count": 195,
   "id": "e35c835c",
   "metadata": {},
   "outputs": [],
   "source": [
    "DATASET_PATH = r\"C:\\Users\\Acer\\OneDrive\\Desktop\\projects\\Gender_voice_recogintion\\gender-recognition-by-voiceoriginal\\data\"\n",
    "\n",
    "# Function to extract MFCC features from audio\n",
    "def extract_features(file_path, max_pad_len=174):\n",
    "    try:\n",
    "        audio, sample_rate = librosa.load(file_path)\n",
    "        mfccs = librosa.feature.mfcc(y=audio, sr=sample_rate, n_mfcc=40)\n",
    "        pad_width = max_pad_len - mfccs.shape[1]\n",
    "        if pad_width > 0:\n",
    "            mfccs = np.pad(mfccs, pad_width=((0, 0), (0, pad_width)), mode='constant')\n",
    "        else:\n",
    "            mfccs = mfccs[:, :max_pad_len]\n",
    "        return mfccs.flatten()\n",
    "    except Exception as e:\n",
    "        print(f\"Error processing {file_path}: {e}\")\n",
    "        return None\n",
    "\n",
    "# Prepare dataset\n",
    "data = []\n",
    "labels = []\n",
    "\n",
    "for label in ['male', 'female']:\n",
    "    folder = os.path.join(DATASET_PATH, label)\n",
    "    for filename in os.listdir(folder):\n",
    "        if filename.endswith(\".wav\"):\n",
    "            file_path = os.path.join(folder, filename)\n",
    "            features = extract_features(file_path)\n",
    "            if features is not None:\n",
    "                data.append(features)\n",
    "                labels.append(label)\n",
    "\n",
    "# Convert to DataFrame\n",
    "X = np.array(data)\n",
    "y = np.array(labels)"
   ]
  },
  {
   "cell_type": "code",
   "execution_count": 146,
   "id": "bcd6905b",
   "metadata": {},
   "outputs": [
    {
     "data": {
      "text/plain": [
       "(16148, 6960)"
      ]
     },
     "execution_count": 146,
     "metadata": {},
     "output_type": "execute_result"
    }
   ],
   "source": [
    "X.shape"
   ]
  },
  {
   "cell_type": "code",
   "execution_count": 196,
   "id": "557ee98e",
   "metadata": {},
   "outputs": [
    {
     "data": {
      "text/plain": [
       "array(['male', 'male', 'male', ..., 'female', 'female', 'female'],\n",
       "      dtype='<U6')"
      ]
     },
     "execution_count": 196,
     "metadata": {},
     "output_type": "execute_result"
    }
   ],
   "source": [
    "y"
   ]
  },
  {
   "cell_type": "code",
   "execution_count": 197,
   "id": "bbddc8a6",
   "metadata": {},
   "outputs": [
    {
     "name": "stdout",
     "output_type": "stream",
     "text": [
      "[[-2.0501982e+02  4.8350781e+02 -4.7153607e+02 ...  1.5749405e-01\n",
      "   4.4618042e+01  6.7720714e+00]\n",
      " [-3.2217596e+02  9.0751440e+02 -3.9651623e+01 ... -7.2059471e+01\n",
      "  -4.2062683e+01 -2.8965124e+01]\n",
      " [ 1.5850690e+03 -2.6058316e+02 -8.5413586e+02 ... -2.9015993e+01\n",
      "  -6.5453369e+01 -1.5837550e+01]\n",
      " ...\n",
      " [-1.2778678e+03 -2.2840570e+02  3.1084967e+02 ...  6.6670715e+01\n",
      "   1.1447326e+00  4.9033264e+01]\n",
      " [-1.1810656e+03 -8.2145111e+01  4.5568307e+02 ...  1.7901527e+01\n",
      "   4.9223965e+01 -2.2771330e+00]\n",
      " [-1.1247345e+03  3.0090244e+01  5.8437219e+02 ...  7.4505318e+01\n",
      "   2.2158988e+00  3.8377422e+01]]\n"
     ]
    }
   ],
   "source": [
    "pca = PCA(n_components=230)\n",
    "X_pca = pca.fit_transform(X)\n",
    "print(X_pca[:230])"
   ]
  },
  {
   "cell_type": "code",
   "execution_count": 159,
   "id": "82edacf0",
   "metadata": {},
   "outputs": [
    {
     "data": {
      "text/plain": [
       "(16148,)"
      ]
     },
     "execution_count": 159,
     "metadata": {},
     "output_type": "execute_result"
    }
   ],
   "source": [
    "y.shape"
   ]
  },
  {
   "cell_type": "code",
   "execution_count": 198,
   "id": "3f238984",
   "metadata": {},
   "outputs": [
    {
     "name": "stdout",
     "output_type": "stream",
     "text": [
      "Explained variance: [0.26011148 0.08112691 0.04223495 0.02857753 0.023343   0.02047248\n",
      " 0.01797502 0.01606918 0.01438658 0.01347491 0.0126648  0.01127699\n",
      " 0.01003387 0.00981005 0.00935762 0.00850494 0.00772662 0.00723173\n",
      " 0.00689766 0.00661969 0.00628046 0.00612644 0.00595275 0.00572969\n",
      " 0.00555089 0.00533187 0.00515277 0.00500756 0.00484884 0.00459268\n",
      " 0.00452471 0.00434937 0.00418423 0.00408192 0.00393612 0.00388124\n",
      " 0.00378295 0.00370651 0.00369222 0.00361691 0.00350298 0.00346706\n",
      " 0.00340723 0.00335416 0.0032716  0.00322145 0.00318305 0.00306598\n",
      " 0.00303825 0.00290541 0.00288816 0.0028056  0.00274979 0.00269193\n",
      " 0.0026351  0.00254636 0.00252904 0.00248529 0.00241985 0.00237608\n",
      " 0.00228532 0.00225374 0.00221803 0.00217954 0.00214298 0.00210881\n",
      " 0.00206824 0.00201031 0.00199916 0.00190586 0.00189534 0.00186972\n",
      " 0.00180547 0.00178467 0.00176995 0.00171251 0.00167121 0.00164656\n",
      " 0.001616   0.00158754 0.00156049 0.0015589  0.00150568 0.00148676\n",
      " 0.00145114 0.0014399  0.00138717 0.00135027 0.00133964 0.00132101\n",
      " 0.00130779 0.00128069 0.00126417 0.00124967 0.00123377 0.00121324\n",
      " 0.00120679 0.00119083 0.00116754 0.00115593 0.00112025 0.00109401\n",
      " 0.00107526 0.00106094 0.00105137 0.00103198 0.00102016 0.0010086\n",
      " 0.00099265 0.00098355 0.00097549 0.00095321 0.0009315  0.00092282\n",
      " 0.0009106  0.00089661 0.00087825 0.00087362 0.00084758 0.00084266\n",
      " 0.00083231 0.00081507 0.00081418 0.00080156 0.00079091 0.00078686\n",
      " 0.00077235 0.00076022 0.00075865 0.00075521 0.00074812 0.0007334\n",
      " 0.00072842 0.00071867 0.00071722 0.00070093 0.00069124 0.00068696\n",
      " 0.00068043 0.00066826 0.00066445 0.00066097 0.00065609 0.00063917\n",
      " 0.00063336 0.00062234 0.00061597 0.00061493 0.00060866 0.00060177\n",
      " 0.00058699 0.00058399 0.00057983 0.00057426 0.00056804 0.00056101\n",
      " 0.00055362 0.00054951 0.00054477 0.0005417  0.00053206 0.00052746\n",
      " 0.00052339 0.00051961 0.00051585 0.0005133  0.00050887 0.00050274\n",
      " 0.00049554 0.0004922  0.00048951 0.00048626 0.00048224 0.000478\n",
      " 0.00047612 0.00047078 0.00046884 0.0004671  0.00045965 0.0004558\n",
      " 0.0004532  0.00044817 0.00044576 0.00044423 0.00043193 0.00043165\n",
      " 0.00042923 0.00042562 0.00042282 0.00041974 0.00041852 0.00041366\n",
      " 0.00041145 0.00040898 0.00040517 0.00040363 0.00039973 0.00039544\n",
      " 0.00038869 0.0003834  0.00038177 0.00037849 0.00037602 0.00037497\n",
      " 0.00037461 0.00036886 0.00036819 0.00036317 0.00036223 0.00035773\n",
      " 0.00035412 0.00035175 0.00034992 0.00034758 0.00034343 0.00034144\n",
      " 0.00033935 0.00033296 0.00033055 0.00033004 0.00032571 0.00032441\n",
      " 0.00032233 0.00032017 0.00031649 0.00031494 0.00031154 0.00030952\n",
      " 0.00030776 0.00030208]\n",
      "Cumulative: [0.26011148 0.34123838 0.38347334 0.41205087 0.43539387 0.45586634\n",
      " 0.47384137 0.48991054 0.50429714 0.517772   0.5304368  0.54171383\n",
      " 0.5517477  0.5615577  0.57091534 0.57942027 0.5871469  0.5943786\n",
      " 0.6012763  0.607896   0.61417645 0.6203029  0.6262557  0.63198537\n",
      " 0.6375362  0.6428681  0.64802086 0.6530284  0.65787727 0.6624699\n",
      " 0.66699463 0.671344   0.6755282  0.67961013 0.68354625 0.68742746\n",
      " 0.6912104  0.6949169  0.6986091  0.70222604 0.705729   0.7091961\n",
      " 0.71260333 0.71595746 0.71922904 0.7224505  0.72563356 0.72869956\n",
      " 0.7317378  0.7346432  0.73753136 0.74033695 0.74308676 0.7457787\n",
      " 0.7484138  0.7509602  0.7534892  0.7559745  0.7583943  0.7607704\n",
      " 0.7630557  0.7653094  0.7675274  0.76970696 0.77184993 0.77395874\n",
      " 0.77602696 0.77803725 0.7800364  0.78194225 0.7838376  0.78570735\n",
      " 0.78751284 0.7892975  0.7910675  0.79278    0.7944512  0.79609776\n",
      " 0.79771376 0.7993013  0.80086184 0.80242074 0.8039264  0.8054132\n",
      " 0.8068643  0.8083042  0.80969137 0.81104165 0.81238127 0.8137023\n",
      " 0.8150101  0.81629074 0.8175549  0.81880456 0.8200383  0.8212516\n",
      " 0.8224584  0.8236492  0.82481676 0.8259727  0.82709295 0.8281869\n",
      " 0.8292622  0.83032316 0.8313745  0.8324065  0.83342665 0.8344353\n",
      " 0.83542794 0.8364115  0.83738697 0.83834016 0.83927166 0.84019446\n",
      " 0.84110504 0.8420017  0.84287995 0.8437536  0.84460115 0.84544384\n",
      " 0.84627616 0.84709126 0.84790546 0.848707   0.8494979  0.85028476\n",
      " 0.8510571  0.8518173  0.85257596 0.85333115 0.85407925 0.8548126\n",
      " 0.85554105 0.8562597  0.8569769  0.8576779  0.8583691  0.85905606\n",
      " 0.8597365  0.8604048  0.86106926 0.8617302  0.8623863  0.8630254\n",
      " 0.8636588  0.8642811  0.8648971  0.865512   0.8661207  0.86672246\n",
      " 0.86730945 0.86789346 0.8684733  0.8690475  0.86961555 0.87017655\n",
      " 0.87073016 0.87127966 0.87182444 0.87236613 0.87289816 0.8734256\n",
      " 0.873949   0.8744686  0.8749845  0.8754978  0.87600666 0.8765094\n",
      " 0.877005   0.8774972  0.8779867  0.878473   0.87895525 0.8794333\n",
      " 0.8799094  0.88038015 0.880849   0.8813161  0.8817758  0.8822316\n",
      " 0.88268477 0.88313293 0.8835787  0.88402295 0.8844549  0.88488656\n",
      " 0.8853158  0.8857414  0.88616425 0.886584   0.8870025  0.8874162\n",
      " 0.88782763 0.88823664 0.88864183 0.8890455  0.8894452  0.8898406\n",
      " 0.8902293  0.89061266 0.8909944  0.8913729  0.89174896 0.89212394\n",
      " 0.89249855 0.8928674  0.89323556 0.89359874 0.89396095 0.8943187\n",
      " 0.8946728  0.89502454 0.8953745  0.89572203 0.8960655  0.8964069\n",
      " 0.8967462  0.89707917 0.89740974 0.89773977 0.8980655  0.89838994\n",
      " 0.8987123  0.8990325  0.899349   0.8996639  0.8999755  0.900285\n",
      " 0.90059274 0.9008948 ]\n"
     ]
    }
   ],
   "source": [
    "print(\"Explained variance:\", pca.explained_variance_ratio_)\n",
    "print(\"Cumulative:\", np.cumsum(pca.explained_variance_ratio_))"
   ]
  },
  {
   "cell_type": "code",
   "execution_count": 257,
   "id": "2cdb6535",
   "metadata": {},
   "outputs": [],
   "source": [
    "y_binary = np.where(y== \"female\", 0,1)"
   ]
  },
  {
   "cell_type": "code",
   "execution_count": 258,
   "id": "ea60d028",
   "metadata": {},
   "outputs": [
    {
     "data": {
      "text/plain": [
       "(16148, 230)"
      ]
     },
     "execution_count": 258,
     "metadata": {},
     "output_type": "execute_result"
    }
   ],
   "source": [
    "y_binary.shape\n",
    "X_pca.shape"
   ]
  },
  {
   "cell_type": "code",
   "execution_count": 259,
   "id": "101bfa6a",
   "metadata": {},
   "outputs": [
    {
     "data": {
      "text/plain": [
       "(array([0, 1]), array([ 5768, 10380], dtype=int64))"
      ]
     },
     "execution_count": 259,
     "metadata": {},
     "output_type": "execute_result"
    }
   ],
   "source": [
    "unique, counts = np.unique(y_binary,return_counts=True)\n",
    "unique,counts"
   ]
  },
  {
   "cell_type": "code",
   "execution_count": 227,
   "id": "ed6e0f2b",
   "metadata": {},
   "outputs": [
    {
     "data": {
      "text/plain": [
       "<BarContainer object of 2 artists>"
      ]
     },
     "execution_count": 227,
     "metadata": {},
     "output_type": "execute_result"
    },
    {
     "data": {
      "image/png": "[encoded data removed]",
      "text/plain": [
       "<Figure size 640x480 with 1 Axes>"
      ]
     },
     "metadata": {},
     "output_type": "display_data"
    }
   ],
   "source": [
    "import matplotlib.pyplot as plt\n",
    "plt.bar(unique, counts, color='skyblue')"
   ]
  },
  {
   "cell_type": "code",
   "execution_count": 260,
   "id": "7fba7970",
   "metadata": {},
   "outputs": [],
   "source": [
    "X_train, X_test, y_train, y_test = train_test_split(X_pca, y_binary, test_size=0.2, random_state=42)"
   ]
  },
  {
   "cell_type": "code",
   "execution_count": null,
   "id": "af4e7769",
   "metadata": {},
   "outputs": [
    {
     "name": "stdout",
     "output_type": "stream",
     "text": [
      "Fitting 3 folds for each of 48 candidates, totalling 144 fits\n"
     ]
    }
   ],
   "source": [
    "param_grid = {\n",
    "    'n_estimators': [100, 200],\n",
    "    'max_depth': [None, 10, 20],\n",
    "    'min_samples_split': [2, 5],\n",
    "    'min_samples_leaf': [1, 2],\n",
    "    'class_weight': [None, 'balanced']\n",
    "}\n",
    "rf = RandomForestClassifier(random_state=42)\n",
    "grid_search = GridSearchCV(estimator=rf, param_grid=param_grid, cv=3, n_jobs=-1, verbose=2)\n",
    "grid_search.fit(X_train,y_train)"
   ]
  },
  {
   "cell_type": "code",
   "execution_count": 230,
   "id": "740f3788",
   "metadata": {},
   "outputs": [
    {
     "name": "stdout",
     "output_type": "stream",
     "text": [
      "Best Parameters: {'class_weight': 'balanced', 'max_depth': 10, 'min_samples_leaf': 2, 'min_samples_split': 5, 'n_estimators': 200}\n"
     ]
    }
   ],
   "source": [
    "print(\"Best Parameters:\", grid_search.best_params_)\n",
    "best_model = grid_search.best_estimator_\n"
   ]
  },
  {
   "cell_type": "code",
   "execution_count": 231,
   "id": "764d13d0",
   "metadata": {},
   "outputs": [
    {
     "name": "stdout",
     "output_type": "stream",
     "text": [
      "              precision    recall  f1-score   support\n",
      "\n",
      "           0       0.96      0.97      0.97      2114\n",
      "           1       0.95      0.93      0.94      1116\n",
      "\n",
      "    accuracy                           0.96      3230\n",
      "   macro avg       0.96      0.95      0.95      3230\n",
      "weighted avg       0.96      0.96      0.96      3230\n",
      "\n"
     ]
    }
   ],
   "source": [
    "from sklearn.metrics import classification_report\n",
    "\n",
    "y_pred = best_model.predict(X_test)\n",
    "print(classification_report(y_test, y_pred))\n"
   ]
  },
  {
   "cell_type": "code",
   "execution_count": null,
   "id": "0eb7b1f2",
   "metadata": {},
   "outputs": [],
   "source": []
  },
  {
   "cell_type": "code",
   "execution_count": 252,
   "id": "98d59fef",
   "metadata": {},
   "outputs": [
    {
     "name": "stdout",
     "output_type": "stream",
     "text": [
      "Recording...\n",
      "Recording saved as my_voice.wav\n"
     ]
    }
   ],
   "source": [
    "import sounddevice as sd\n",
    "from scipy.io.wavfile import write\n",
    "\n",
    "fs = 44100  # Sampling rate\n",
    "seconds = 5  # Duration of recording\n",
    "\n",
    "print(\"Recording...\")\n",
    "recording = sd.rec(int(seconds * fs), samplerate=fs, channels=1)\n",
    "sd.wait()\n",
    "write(\"my_voice.wav\", fs, recording)\n",
    "print(\"Recording saved as my_voice.wav\")\n"
   ]
  },
  {
   "cell_type": "code",
   "execution_count": null,
   "id": "720d78c5",
   "metadata": {},
   "outputs": [
    {
     "name": "stdout",
     "output_type": "stream",
     "text": [
      "Its female voice\n"
     ]
    }
   ],
   "source": [
    "# Load new audio\n",
    "audio, sr = librosa.load(r\"my_voice.wav\")\n",
    "\n",
    "\n",
    "# Extract MFCC features with same config used during training\n",
    "mfcc = librosa.feature.mfcc(y=audio, sr=sr, n_mfcc=40)\n",
    "pad_width = 174 - mfcc.shape[1]\n",
    "if pad_width > 0:\n",
    "    mfcc = np.pad(mfcc, pad_width=((0, 0), (0, pad_width)), mode='constant')\n",
    "else:\n",
    "    mfcc = mfcc[:, :174]\n",
    "    \n",
    "\n",
    "\n",
    "energy_threshold=0.01\n",
    "duration_threshold=0.5\n",
    "    # Check overall energy level\n",
    "energy = np.sqrt(np.mean(audio**2))\n",
    "\n",
    "if energy < energy_threshold:\n",
    "    print(\"Silence\")\n",
    "else:\n",
    "\n",
    "    stft = np.abs(librosa.stft(audio))\n",
    "    freqs = librosa.fft_frequencies(sr=sr)\n",
    "    mean_freq = np.mean(freqs[np.argmax(stft, axis=0)])\n",
    "    \n",
    "    z = mfcc.flatten().reshape(1, -1)  # shape: (1, 6960)\n",
    "\n",
    "    z=z.reshape(1, -1)\n",
    "\n",
    "    z_pca = pca.transform(z)\n",
    "    output=grid_search.predict(z_pca) \n",
    "    if output==1:\n",
    "        print(\"It's male voice\")\n",
    "    else:\n",
    "        print(\"Its female voice\")\n",
    "        \n",
    "    \n",
    "        \n",
    "\n",
    "\n",
    "        \n",
    "        "
   ]
  },
  {
   "cell_type": "code",
   "execution_count": 221,
   "id": "a40f14c7",
   "metadata": {},
   "outputs": [],
   "source": [
    "z_pca = pca.transform(z)"
   ]
  },
  {
   "cell_type": "code",
   "execution_count": 222,
   "id": "3a328547",
   "metadata": {},
   "outputs": [
    {
     "name": "stdout",
     "output_type": "stream",
     "text": [
      "It's male voice\n"
     ]
    }
   ],
   "source": [
    "output=grid_search.predict(z_pca) \n",
    "if output==0:\n",
    "    print(\"It's male voice\")\n",
    "else:\n",
    "    print(\"Its female voice\")\n"
   ]
  },
  {
   "cell_type": "code",
   "execution_count": null,
   "id": "8a06ff1c",
   "metadata": {},
   "outputs": [],
   "source": []
  }
 ],
 "metadata": {
  "kernelspec": {
   "display_name": "base",
   "language": "python",
   "name": "python3"
  },
  "language_info": {
   "codemirror_mode": {
    "name": "ipython",
    "version": 3
   },
   "file_extension": ".py",
   "mimetype": "text/x-python",
   "name": "python",
   "nbconvert_exporter": "python",
   "pygments_lexer": "ipython3",
   "version": "3.12.4"
  }
 },
 "nbformat": 4,
 "nbformat_minor": 5
}
